{
 "cells": [
  {
   "cell_type": "code",
   "execution_count": 1,
   "id": "6f979a82",
   "metadata": {},
   "outputs": [
    {
     "name": "stdout",
     "output_type": "stream",
     "text": [
      "rolling dice\n",
      "you rolled\n",
      "6\n",
      "roll again? yes or no:yes\n",
      "rolling dice\n",
      "you rolled\n",
      "3\n",
      "roll again? yes or no:no\n"
     ]
    }
   ],
   "source": [
    "import random\n",
    "import time as t    #to delay dice\n",
    "\n",
    "roll_more = \"yes\"\n",
    "\n",
    "while roll_more ==\"yes\" :\n",
    "    print(\"rolling dice\")\n",
    "    t.sleep(2)\n",
    "    print(\"you rolled\")\n",
    "    print(random.randint(1,6))\n",
    "    roll_more= input(\"roll again? yes or no:\")\n",
    "\n",
    "\n"
   ]
  },
  {
   "cell_type": "code",
   "execution_count": null,
   "id": "1f44cad3",
   "metadata": {},
   "outputs": [],
   "source": []
  },
  {
   "cell_type": "code",
   "execution_count": null,
   "id": "e69b474a",
   "metadata": {},
   "outputs": [],
   "source": []
  }
 ],
 "metadata": {
  "kernelspec": {
   "display_name": "Python 3 (ipykernel)",
   "language": "python",
   "name": "python3"
  },
  "language_info": {
   "codemirror_mode": {
    "name": "ipython",
    "version": 3
   },
   "file_extension": ".py",
   "mimetype": "text/x-python",
   "name": "python",
   "nbconvert_exporter": "python",
   "pygments_lexer": "ipython3",
   "version": "3.10.6"
  }
 },
 "nbformat": 4,
 "nbformat_minor": 5
}
